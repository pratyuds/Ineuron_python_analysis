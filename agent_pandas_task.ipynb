{
 "cells": [
  {
   "cell_type": "code",
   "execution_count": 1,
   "id": "e6cccc5a",
   "metadata": {},
   "outputs": [],
   "source": [
    "import pandas as pd"
   ]
  },
  {
   "cell_type": "code",
   "execution_count": 2,
   "id": "324e4101",
   "metadata": {},
   "outputs": [],
   "source": [
    "agent_login = pd.read_csv(\"C:/Users/praty/PycharmProjects/datasets/Agent_Login_Report.csv\")"
   ]
  },
  {
   "cell_type": "code",
   "execution_count": 3,
   "id": "c3537f83",
   "metadata": {},
   "outputs": [
    {
     "data": {
      "text/html": [
       "<div>\n",
       "<style scoped>\n",
       "    .dataframe tbody tr th:only-of-type {\n",
       "        vertical-align: middle;\n",
       "    }\n",
       "\n",
       "    .dataframe tbody tr th {\n",
       "        vertical-align: top;\n",
       "    }\n",
       "\n",
       "    .dataframe thead th {\n",
       "        text-align: right;\n",
       "    }\n",
       "</style>\n",
       "<table border=\"1\" class=\"dataframe\">\n",
       "  <thead>\n",
       "    <tr style=\"text-align: right;\">\n",
       "      <th></th>\n",
       "      <th>Agent Login Report</th>\n",
       "      <th>Unnamed: 1</th>\n",
       "      <th>Unnamed: 2</th>\n",
       "      <th>Unnamed: 3</th>\n",
       "      <th>Unnamed: 4</th>\n",
       "      <th>Unnamed: 5</th>\n",
       "    </tr>\n",
       "  </thead>\n",
       "  <tbody>\n",
       "    <tr>\n",
       "      <th>0</th>\n",
       "      <td>NaN</td>\n",
       "      <td>NaN</td>\n",
       "      <td>NaN</td>\n",
       "      <td>NaN</td>\n",
       "      <td>NaN</td>\n",
       "      <td>NaN</td>\n",
       "    </tr>\n",
       "    <tr>\n",
       "      <th>1</th>\n",
       "      <td>SL No</td>\n",
       "      <td>Agent</td>\n",
       "      <td>Date</td>\n",
       "      <td>Login Time</td>\n",
       "      <td>Logout Time</td>\n",
       "      <td>Duration</td>\n",
       "    </tr>\n",
       "    <tr>\n",
       "      <th>2</th>\n",
       "      <td>1</td>\n",
       "      <td>Shivananda Sonwane</td>\n",
       "      <td>30-Jul-22</td>\n",
       "      <td>03:35:29 PM</td>\n",
       "      <td>05:39:39 PM</td>\n",
       "      <td>02:04:10</td>\n",
       "    </tr>\n",
       "    <tr>\n",
       "      <th>3</th>\n",
       "      <td>2</td>\n",
       "      <td>Khushboo Priya</td>\n",
       "      <td>30-Jul-22</td>\n",
       "      <td>03:06:59 PM</td>\n",
       "      <td>03:07:16 PM</td>\n",
       "      <td>00:00:17</td>\n",
       "    </tr>\n",
       "    <tr>\n",
       "      <th>4</th>\n",
       "      <td>3</td>\n",
       "      <td>Nandani Gupta</td>\n",
       "      <td>30-Jul-22</td>\n",
       "      <td>03:04:24 PM</td>\n",
       "      <td>05:31:07 PM</td>\n",
       "      <td>02:26:42</td>\n",
       "    </tr>\n",
       "    <tr>\n",
       "      <th>...</th>\n",
       "      <td>...</td>\n",
       "      <td>...</td>\n",
       "      <td>...</td>\n",
       "      <td>...</td>\n",
       "      <td>...</td>\n",
       "      <td>...</td>\n",
       "    </tr>\n",
       "    <tr>\n",
       "      <th>997</th>\n",
       "      <td>996</td>\n",
       "      <td>Manjunatha A</td>\n",
       "      <td>20-Jul-22</td>\n",
       "      <td>09:03:51 AM</td>\n",
       "      <td>03:02:28 PM</td>\n",
       "      <td>05:58:37</td>\n",
       "    </tr>\n",
       "    <tr>\n",
       "      <th>998</th>\n",
       "      <td>997</td>\n",
       "      <td>Bharath</td>\n",
       "      <td>20-Jul-22</td>\n",
       "      <td>09:00:49 AM</td>\n",
       "      <td>03:01:32 PM</td>\n",
       "      <td>06:00:43</td>\n",
       "    </tr>\n",
       "    <tr>\n",
       "      <th>999</th>\n",
       "      <td>998</td>\n",
       "      <td>Khushboo Priya</td>\n",
       "      <td>20-Jul-22</td>\n",
       "      <td>08:59:20 AM</td>\n",
       "      <td>02:26:55 PM</td>\n",
       "      <td>05:27:34</td>\n",
       "    </tr>\n",
       "    <tr>\n",
       "      <th>1000</th>\n",
       "      <td>999</td>\n",
       "      <td>Nishtha Jain</td>\n",
       "      <td>20-Jul-22</td>\n",
       "      <td>08:43:55 AM</td>\n",
       "      <td>02:00:33 PM</td>\n",
       "      <td>05:16:38</td>\n",
       "    </tr>\n",
       "    <tr>\n",
       "      <th>1001</th>\n",
       "      <td>1000</td>\n",
       "      <td>Tarun</td>\n",
       "      <td>01-Jul-22</td>\n",
       "      <td>01:52:47 AM</td>\n",
       "      <td>12:01:07 PM</td>\n",
       "      <td>514:08:20</td>\n",
       "    </tr>\n",
       "  </tbody>\n",
       "</table>\n",
       "<p>1002 rows × 6 columns</p>\n",
       "</div>"
      ],
      "text/plain": [
       "     Agent Login Report          Unnamed: 1 Unnamed: 2   Unnamed: 3  \\\n",
       "0                   NaN                 NaN        NaN          NaN   \n",
       "1                 SL No               Agent       Date   Login Time   \n",
       "2                     1  Shivananda Sonwane  30-Jul-22  03:35:29 PM   \n",
       "3                     2      Khushboo Priya  30-Jul-22  03:06:59 PM   \n",
       "4                     3       Nandani Gupta  30-Jul-22  03:04:24 PM   \n",
       "...                 ...                 ...        ...          ...   \n",
       "997                 996        Manjunatha A  20-Jul-22  09:03:51 AM   \n",
       "998                 997            Bharath   20-Jul-22  09:00:49 AM   \n",
       "999                 998      Khushboo Priya  20-Jul-22  08:59:20 AM   \n",
       "1000                999        Nishtha Jain  20-Jul-22  08:43:55 AM   \n",
       "1001               1000              Tarun   01-Jul-22  01:52:47 AM   \n",
       "\n",
       "       Unnamed: 4 Unnamed: 5  \n",
       "0             NaN        NaN  \n",
       "1     Logout Time   Duration  \n",
       "2     05:39:39 PM   02:04:10  \n",
       "3     03:07:16 PM   00:00:17  \n",
       "4     05:31:07 PM   02:26:42  \n",
       "...           ...        ...  \n",
       "997   03:02:28 PM   05:58:37  \n",
       "998   03:01:32 PM   06:00:43  \n",
       "999   02:26:55 PM   05:27:34  \n",
       "1000  02:00:33 PM   05:16:38  \n",
       "1001  12:01:07 PM  514:08:20  \n",
       "\n",
       "[1002 rows x 6 columns]"
      ]
     },
     "execution_count": 3,
     "metadata": {},
     "output_type": "execute_result"
    }
   ],
   "source": [
    "agent_login"
   ]
  },
  {
   "cell_type": "code",
   "execution_count": 4,
   "id": "5e5e80ba",
   "metadata": {},
   "outputs": [],
   "source": [
    "agent_login.drop(agent_login.index[:1], inplace=True)"
   ]
  },
  {
   "cell_type": "code",
   "execution_count": 5,
   "id": "7ff0c6b4",
   "metadata": {},
   "outputs": [],
   "source": [
    "new_header = agent_login.iloc[0] \n",
    "agent_login = agent_login[1:] \n",
    "agent_login.columns = new_header"
   ]
  },
  {
   "cell_type": "code",
   "execution_count": 6,
   "id": "b9e0ea99",
   "metadata": {},
   "outputs": [
    {
     "data": {
      "text/html": [
       "<div>\n",
       "<style scoped>\n",
       "    .dataframe tbody tr th:only-of-type {\n",
       "        vertical-align: middle;\n",
       "    }\n",
       "\n",
       "    .dataframe tbody tr th {\n",
       "        vertical-align: top;\n",
       "    }\n",
       "\n",
       "    .dataframe thead th {\n",
       "        text-align: right;\n",
       "    }\n",
       "</style>\n",
       "<table border=\"1\" class=\"dataframe\">\n",
       "  <thead>\n",
       "    <tr style=\"text-align: right;\">\n",
       "      <th>1</th>\n",
       "      <th>SL No</th>\n",
       "      <th>Agent</th>\n",
       "      <th>Date</th>\n",
       "      <th>Login Time</th>\n",
       "      <th>Logout Time</th>\n",
       "      <th>Duration</th>\n",
       "    </tr>\n",
       "  </thead>\n",
       "  <tbody>\n",
       "    <tr>\n",
       "      <th>2</th>\n",
       "      <td>1</td>\n",
       "      <td>Shivananda Sonwane</td>\n",
       "      <td>30-Jul-22</td>\n",
       "      <td>03:35:29 PM</td>\n",
       "      <td>05:39:39 PM</td>\n",
       "      <td>02:04:10</td>\n",
       "    </tr>\n",
       "    <tr>\n",
       "      <th>3</th>\n",
       "      <td>2</td>\n",
       "      <td>Khushboo Priya</td>\n",
       "      <td>30-Jul-22</td>\n",
       "      <td>03:06:59 PM</td>\n",
       "      <td>03:07:16 PM</td>\n",
       "      <td>00:00:17</td>\n",
       "    </tr>\n",
       "    <tr>\n",
       "      <th>4</th>\n",
       "      <td>3</td>\n",
       "      <td>Nandani Gupta</td>\n",
       "      <td>30-Jul-22</td>\n",
       "      <td>03:04:24 PM</td>\n",
       "      <td>05:31:07 PM</td>\n",
       "      <td>02:26:42</td>\n",
       "    </tr>\n",
       "    <tr>\n",
       "      <th>5</th>\n",
       "      <td>4</td>\n",
       "      <td>Hrisikesh Neogi</td>\n",
       "      <td>30-Jul-22</td>\n",
       "      <td>02:34:29 PM</td>\n",
       "      <td>03:19:35 PM</td>\n",
       "      <td>00:45:06</td>\n",
       "    </tr>\n",
       "    <tr>\n",
       "      <th>6</th>\n",
       "      <td>5</td>\n",
       "      <td>Mukesh</td>\n",
       "      <td>30-Jul-22</td>\n",
       "      <td>02:03:15 PM</td>\n",
       "      <td>03:11:52 PM</td>\n",
       "      <td>01:08:36</td>\n",
       "    </tr>\n",
       "    <tr>\n",
       "      <th>...</th>\n",
       "      <td>...</td>\n",
       "      <td>...</td>\n",
       "      <td>...</td>\n",
       "      <td>...</td>\n",
       "      <td>...</td>\n",
       "      <td>...</td>\n",
       "    </tr>\n",
       "    <tr>\n",
       "      <th>997</th>\n",
       "      <td>996</td>\n",
       "      <td>Manjunatha A</td>\n",
       "      <td>20-Jul-22</td>\n",
       "      <td>09:03:51 AM</td>\n",
       "      <td>03:02:28 PM</td>\n",
       "      <td>05:58:37</td>\n",
       "    </tr>\n",
       "    <tr>\n",
       "      <th>998</th>\n",
       "      <td>997</td>\n",
       "      <td>Bharath</td>\n",
       "      <td>20-Jul-22</td>\n",
       "      <td>09:00:49 AM</td>\n",
       "      <td>03:01:32 PM</td>\n",
       "      <td>06:00:43</td>\n",
       "    </tr>\n",
       "    <tr>\n",
       "      <th>999</th>\n",
       "      <td>998</td>\n",
       "      <td>Khushboo Priya</td>\n",
       "      <td>20-Jul-22</td>\n",
       "      <td>08:59:20 AM</td>\n",
       "      <td>02:26:55 PM</td>\n",
       "      <td>05:27:34</td>\n",
       "    </tr>\n",
       "    <tr>\n",
       "      <th>1000</th>\n",
       "      <td>999</td>\n",
       "      <td>Nishtha Jain</td>\n",
       "      <td>20-Jul-22</td>\n",
       "      <td>08:43:55 AM</td>\n",
       "      <td>02:00:33 PM</td>\n",
       "      <td>05:16:38</td>\n",
       "    </tr>\n",
       "    <tr>\n",
       "      <th>1001</th>\n",
       "      <td>1000</td>\n",
       "      <td>Tarun</td>\n",
       "      <td>01-Jul-22</td>\n",
       "      <td>01:52:47 AM</td>\n",
       "      <td>12:01:07 PM</td>\n",
       "      <td>514:08:20</td>\n",
       "    </tr>\n",
       "  </tbody>\n",
       "</table>\n",
       "<p>1000 rows × 6 columns</p>\n",
       "</div>"
      ],
      "text/plain": [
       "1    SL No               Agent       Date   Login Time  Logout Time   Duration\n",
       "2        1  Shivananda Sonwane  30-Jul-22  03:35:29 PM  05:39:39 PM   02:04:10\n",
       "3        2      Khushboo Priya  30-Jul-22  03:06:59 PM  03:07:16 PM   00:00:17\n",
       "4        3       Nandani Gupta  30-Jul-22  03:04:24 PM  05:31:07 PM   02:26:42\n",
       "5        4     Hrisikesh Neogi  30-Jul-22  02:34:29 PM  03:19:35 PM   00:45:06\n",
       "6        5             Mukesh   30-Jul-22  02:03:15 PM  03:11:52 PM   01:08:36\n",
       "...    ...                 ...        ...          ...          ...        ...\n",
       "997    996        Manjunatha A  20-Jul-22  09:03:51 AM  03:02:28 PM   05:58:37\n",
       "998    997            Bharath   20-Jul-22  09:00:49 AM  03:01:32 PM   06:00:43\n",
       "999    998      Khushboo Priya  20-Jul-22  08:59:20 AM  02:26:55 PM   05:27:34\n",
       "1000   999        Nishtha Jain  20-Jul-22  08:43:55 AM  02:00:33 PM   05:16:38\n",
       "1001  1000              Tarun   01-Jul-22  01:52:47 AM  12:01:07 PM  514:08:20\n",
       "\n",
       "[1000 rows x 6 columns]"
      ]
     },
     "execution_count": 6,
     "metadata": {},
     "output_type": "execute_result"
    }
   ],
   "source": [
    "agent_login"
   ]
  },
  {
   "cell_type": "code",
   "execution_count": 7,
   "id": "0572a531",
   "metadata": {},
   "outputs": [],
   "source": [
    "agent_perform = pd.read_csv(\"C:/Users/praty/PycharmProjects/datasets/AgentPerformance.csv\",header=None)"
   ]
  },
  {
   "cell_type": "code",
   "execution_count": 8,
   "id": "bd7351d2",
   "metadata": {},
   "outputs": [
    {
     "data": {
      "text/html": [
       "<div>\n",
       "<style scoped>\n",
       "    .dataframe tbody tr th:only-of-type {\n",
       "        vertical-align: middle;\n",
       "    }\n",
       "\n",
       "    .dataframe tbody tr th {\n",
       "        vertical-align: top;\n",
       "    }\n",
       "\n",
       "    .dataframe thead th {\n",
       "        text-align: right;\n",
       "    }\n",
       "</style>\n",
       "<table border=\"1\" class=\"dataframe\">\n",
       "  <thead>\n",
       "    <tr style=\"text-align: right;\">\n",
       "      <th></th>\n",
       "      <th>0</th>\n",
       "      <th>1</th>\n",
       "      <th>2</th>\n",
       "      <th>3</th>\n",
       "      <th>4</th>\n",
       "      <th>5</th>\n",
       "      <th>6</th>\n",
       "      <th>7</th>\n",
       "    </tr>\n",
       "  </thead>\n",
       "  <tbody>\n",
       "    <tr>\n",
       "      <th>0</th>\n",
       "      <td>Agent Performance Report</td>\n",
       "      <td>NaN</td>\n",
       "      <td>NaN</td>\n",
       "      <td>NaN</td>\n",
       "      <td>NaN</td>\n",
       "      <td>NaN</td>\n",
       "      <td>NaN</td>\n",
       "      <td>NaN</td>\n",
       "    </tr>\n",
       "    <tr>\n",
       "      <th>1</th>\n",
       "      <td>SL No</td>\n",
       "      <td>Date</td>\n",
       "      <td>Agent Name</td>\n",
       "      <td>Total Chats</td>\n",
       "      <td>Average Response Time</td>\n",
       "      <td>Average Resolution Time</td>\n",
       "      <td>Average Rating</td>\n",
       "      <td>Total Feedback</td>\n",
       "    </tr>\n",
       "    <tr>\n",
       "      <th>2</th>\n",
       "      <td>1</td>\n",
       "      <td>2022-07-30</td>\n",
       "      <td>Prerna Singh</td>\n",
       "      <td>11</td>\n",
       "      <td>00:00:38</td>\n",
       "      <td>00:04:20</td>\n",
       "      <td>4.11</td>\n",
       "      <td>9</td>\n",
       "    </tr>\n",
       "    <tr>\n",
       "      <th>3</th>\n",
       "      <td>2</td>\n",
       "      <td>2022-07-30</td>\n",
       "      <td>Nandani Gupta</td>\n",
       "      <td>11</td>\n",
       "      <td>00:01:15</td>\n",
       "      <td>00:28:25</td>\n",
       "      <td>3.14</td>\n",
       "      <td>7</td>\n",
       "    </tr>\n",
       "    <tr>\n",
       "      <th>4</th>\n",
       "      <td>3</td>\n",
       "      <td>2022-07-30</td>\n",
       "      <td>Ameya Jain</td>\n",
       "      <td>14</td>\n",
       "      <td>00:00:30</td>\n",
       "      <td>00:11:36</td>\n",
       "      <td>4.55</td>\n",
       "      <td>11</td>\n",
       "    </tr>\n",
       "    <tr>\n",
       "      <th>...</th>\n",
       "      <td>...</td>\n",
       "      <td>...</td>\n",
       "      <td>...</td>\n",
       "      <td>...</td>\n",
       "      <td>...</td>\n",
       "      <td>...</td>\n",
       "      <td>...</td>\n",
       "      <td>...</td>\n",
       "    </tr>\n",
       "    <tr>\n",
       "      <th>2157</th>\n",
       "      <td>2156</td>\n",
       "      <td>2022-07-01</td>\n",
       "      <td>Sowmiya Sivakumar</td>\n",
       "      <td>0</td>\n",
       "      <td>00:00:00</td>\n",
       "      <td>00:00:00</td>\n",
       "      <td>0.0</td>\n",
       "      <td>0</td>\n",
       "    </tr>\n",
       "    <tr>\n",
       "      <th>2158</th>\n",
       "      <td>2157</td>\n",
       "      <td>2022-07-01</td>\n",
       "      <td>Nitin M</td>\n",
       "      <td>0</td>\n",
       "      <td>00:00:00</td>\n",
       "      <td>00:00:00</td>\n",
       "      <td>0.0</td>\n",
       "      <td>0</td>\n",
       "    </tr>\n",
       "    <tr>\n",
       "      <th>2159</th>\n",
       "      <td>2158</td>\n",
       "      <td>2022-07-01</td>\n",
       "      <td>Vivek</td>\n",
       "      <td>0</td>\n",
       "      <td>00:00:00</td>\n",
       "      <td>00:00:00</td>\n",
       "      <td>0.0</td>\n",
       "      <td>0</td>\n",
       "    </tr>\n",
       "    <tr>\n",
       "      <th>2160</th>\n",
       "      <td>2159</td>\n",
       "      <td>2022-07-01</td>\n",
       "      <td>Ayushi Mishra</td>\n",
       "      <td>0</td>\n",
       "      <td>00:00:00</td>\n",
       "      <td>00:00:00</td>\n",
       "      <td>0.0</td>\n",
       "      <td>0</td>\n",
       "    </tr>\n",
       "    <tr>\n",
       "      <th>2161</th>\n",
       "      <td>2160</td>\n",
       "      <td>2022-07-01</td>\n",
       "      <td>Chaitra K Hiremath</td>\n",
       "      <td>0</td>\n",
       "      <td>00:00:00</td>\n",
       "      <td>00:00:00</td>\n",
       "      <td>0.0</td>\n",
       "      <td>0</td>\n",
       "    </tr>\n",
       "  </tbody>\n",
       "</table>\n",
       "<p>2162 rows × 8 columns</p>\n",
       "</div>"
      ],
      "text/plain": [
       "                             0           1                   2            3  \\\n",
       "0     Agent Performance Report         NaN                 NaN          NaN   \n",
       "1                        SL No        Date          Agent Name  Total Chats   \n",
       "2                            1  2022-07-30        Prerna Singh           11   \n",
       "3                            2  2022-07-30       Nandani Gupta           11   \n",
       "4                            3  2022-07-30          Ameya Jain           14   \n",
       "...                        ...         ...                 ...          ...   \n",
       "2157                      2156  2022-07-01   Sowmiya Sivakumar            0   \n",
       "2158                      2157  2022-07-01             Nitin M            0   \n",
       "2159                      2158  2022-07-01              Vivek             0   \n",
       "2160                      2159  2022-07-01       Ayushi Mishra            0   \n",
       "2161                      2160  2022-07-01  Chaitra K Hiremath            0   \n",
       "\n",
       "                          4                        5               6  \\\n",
       "0                       NaN                      NaN             NaN   \n",
       "1     Average Response Time  Average Resolution Time  Average Rating   \n",
       "2                  00:00:38                 00:04:20            4.11   \n",
       "3                  00:01:15                 00:28:25            3.14   \n",
       "4                  00:00:30                 00:11:36            4.55   \n",
       "...                     ...                      ...             ...   \n",
       "2157               00:00:00                 00:00:00             0.0   \n",
       "2158               00:00:00                 00:00:00             0.0   \n",
       "2159               00:00:00                 00:00:00             0.0   \n",
       "2160               00:00:00                 00:00:00             0.0   \n",
       "2161               00:00:00                 00:00:00             0.0   \n",
       "\n",
       "                   7  \n",
       "0                NaN  \n",
       "1     Total Feedback  \n",
       "2                  9  \n",
       "3                  7  \n",
       "4                 11  \n",
       "...              ...  \n",
       "2157               0  \n",
       "2158               0  \n",
       "2159               0  \n",
       "2160               0  \n",
       "2161               0  \n",
       "\n",
       "[2162 rows x 8 columns]"
      ]
     },
     "execution_count": 8,
     "metadata": {},
     "output_type": "execute_result"
    }
   ],
   "source": [
    "agent_perform"
   ]
  },
  {
   "cell_type": "code",
   "execution_count": 9,
   "id": "0c376936",
   "metadata": {},
   "outputs": [],
   "source": [
    "agent_perform.drop(agent_perform.index[:1], inplace=True)"
   ]
  },
  {
   "cell_type": "code",
   "execution_count": 10,
   "id": "53f22e10",
   "metadata": {},
   "outputs": [],
   "source": [
    "new_header = agent_perform.iloc[0] \n",
    "agent_perform = agent_perform[1:] \n",
    "agent_perform.columns = new_header"
   ]
  },
  {
   "cell_type": "code",
   "execution_count": 11,
   "id": "5def7cd9",
   "metadata": {},
   "outputs": [
    {
     "data": {
      "text/html": [
       "<div>\n",
       "<style scoped>\n",
       "    .dataframe tbody tr th:only-of-type {\n",
       "        vertical-align: middle;\n",
       "    }\n",
       "\n",
       "    .dataframe tbody tr th {\n",
       "        vertical-align: top;\n",
       "    }\n",
       "\n",
       "    .dataframe thead th {\n",
       "        text-align: right;\n",
       "    }\n",
       "</style>\n",
       "<table border=\"1\" class=\"dataframe\">\n",
       "  <thead>\n",
       "    <tr style=\"text-align: right;\">\n",
       "      <th>1</th>\n",
       "      <th>SL No</th>\n",
       "      <th>Date</th>\n",
       "      <th>Agent Name</th>\n",
       "      <th>Total Chats</th>\n",
       "      <th>Average Response Time</th>\n",
       "      <th>Average Resolution Time</th>\n",
       "      <th>Average Rating</th>\n",
       "      <th>Total Feedback</th>\n",
       "    </tr>\n",
       "  </thead>\n",
       "  <tbody>\n",
       "    <tr>\n",
       "      <th>2</th>\n",
       "      <td>1</td>\n",
       "      <td>2022-07-30</td>\n",
       "      <td>Prerna Singh</td>\n",
       "      <td>11</td>\n",
       "      <td>00:00:38</td>\n",
       "      <td>00:04:20</td>\n",
       "      <td>4.11</td>\n",
       "      <td>9</td>\n",
       "    </tr>\n",
       "    <tr>\n",
       "      <th>3</th>\n",
       "      <td>2</td>\n",
       "      <td>2022-07-30</td>\n",
       "      <td>Nandani Gupta</td>\n",
       "      <td>11</td>\n",
       "      <td>00:01:15</td>\n",
       "      <td>00:28:25</td>\n",
       "      <td>3.14</td>\n",
       "      <td>7</td>\n",
       "    </tr>\n",
       "    <tr>\n",
       "      <th>4</th>\n",
       "      <td>3</td>\n",
       "      <td>2022-07-30</td>\n",
       "      <td>Ameya Jain</td>\n",
       "      <td>14</td>\n",
       "      <td>00:00:30</td>\n",
       "      <td>00:11:36</td>\n",
       "      <td>4.55</td>\n",
       "      <td>11</td>\n",
       "    </tr>\n",
       "    <tr>\n",
       "      <th>5</th>\n",
       "      <td>4</td>\n",
       "      <td>2022-07-30</td>\n",
       "      <td>Mahesh Sarade</td>\n",
       "      <td>14</td>\n",
       "      <td>00:01:04</td>\n",
       "      <td>00:15:46</td>\n",
       "      <td>4.71</td>\n",
       "      <td>7</td>\n",
       "    </tr>\n",
       "    <tr>\n",
       "      <th>6</th>\n",
       "      <td>5</td>\n",
       "      <td>2022-07-30</td>\n",
       "      <td>Swati</td>\n",
       "      <td>14</td>\n",
       "      <td>00:01:11</td>\n",
       "      <td>00:16:33</td>\n",
       "      <td>3.67</td>\n",
       "      <td>6</td>\n",
       "    </tr>\n",
       "    <tr>\n",
       "      <th>...</th>\n",
       "      <td>...</td>\n",
       "      <td>...</td>\n",
       "      <td>...</td>\n",
       "      <td>...</td>\n",
       "      <td>...</td>\n",
       "      <td>...</td>\n",
       "      <td>...</td>\n",
       "      <td>...</td>\n",
       "    </tr>\n",
       "    <tr>\n",
       "      <th>2157</th>\n",
       "      <td>2156</td>\n",
       "      <td>2022-07-01</td>\n",
       "      <td>Sowmiya Sivakumar</td>\n",
       "      <td>0</td>\n",
       "      <td>00:00:00</td>\n",
       "      <td>00:00:00</td>\n",
       "      <td>0.0</td>\n",
       "      <td>0</td>\n",
       "    </tr>\n",
       "    <tr>\n",
       "      <th>2158</th>\n",
       "      <td>2157</td>\n",
       "      <td>2022-07-01</td>\n",
       "      <td>Nitin M</td>\n",
       "      <td>0</td>\n",
       "      <td>00:00:00</td>\n",
       "      <td>00:00:00</td>\n",
       "      <td>0.0</td>\n",
       "      <td>0</td>\n",
       "    </tr>\n",
       "    <tr>\n",
       "      <th>2159</th>\n",
       "      <td>2158</td>\n",
       "      <td>2022-07-01</td>\n",
       "      <td>Vivek</td>\n",
       "      <td>0</td>\n",
       "      <td>00:00:00</td>\n",
       "      <td>00:00:00</td>\n",
       "      <td>0.0</td>\n",
       "      <td>0</td>\n",
       "    </tr>\n",
       "    <tr>\n",
       "      <th>2160</th>\n",
       "      <td>2159</td>\n",
       "      <td>2022-07-01</td>\n",
       "      <td>Ayushi Mishra</td>\n",
       "      <td>0</td>\n",
       "      <td>00:00:00</td>\n",
       "      <td>00:00:00</td>\n",
       "      <td>0.0</td>\n",
       "      <td>0</td>\n",
       "    </tr>\n",
       "    <tr>\n",
       "      <th>2161</th>\n",
       "      <td>2160</td>\n",
       "      <td>2022-07-01</td>\n",
       "      <td>Chaitra K Hiremath</td>\n",
       "      <td>0</td>\n",
       "      <td>00:00:00</td>\n",
       "      <td>00:00:00</td>\n",
       "      <td>0.0</td>\n",
       "      <td>0</td>\n",
       "    </tr>\n",
       "  </tbody>\n",
       "</table>\n",
       "<p>2160 rows × 8 columns</p>\n",
       "</div>"
      ],
      "text/plain": [
       "1    SL No        Date          Agent Name Total Chats Average Response Time  \\\n",
       "2        1  2022-07-30        Prerna Singh          11              00:00:38   \n",
       "3        2  2022-07-30       Nandani Gupta          11              00:01:15   \n",
       "4        3  2022-07-30          Ameya Jain          14              00:00:30   \n",
       "5        4  2022-07-30       Mahesh Sarade          14              00:01:04   \n",
       "6        5  2022-07-30              Swati           14              00:01:11   \n",
       "...    ...         ...                 ...         ...                   ...   \n",
       "2157  2156  2022-07-01   Sowmiya Sivakumar           0              00:00:00   \n",
       "2158  2157  2022-07-01             Nitin M           0              00:00:00   \n",
       "2159  2158  2022-07-01              Vivek            0              00:00:00   \n",
       "2160  2159  2022-07-01       Ayushi Mishra           0              00:00:00   \n",
       "2161  2160  2022-07-01  Chaitra K Hiremath           0              00:00:00   \n",
       "\n",
       "1    Average Resolution Time Average Rating Total Feedback  \n",
       "2                   00:04:20           4.11              9  \n",
       "3                   00:28:25           3.14              7  \n",
       "4                   00:11:36           4.55             11  \n",
       "5                   00:15:46           4.71              7  \n",
       "6                   00:16:33           3.67              6  \n",
       "...                      ...            ...            ...  \n",
       "2157                00:00:00            0.0              0  \n",
       "2158                00:00:00            0.0              0  \n",
       "2159                00:00:00            0.0              0  \n",
       "2160                00:00:00            0.0              0  \n",
       "2161                00:00:00            0.0              0  \n",
       "\n",
       "[2160 rows x 8 columns]"
      ]
     },
     "execution_count": 11,
     "metadata": {},
     "output_type": "execute_result"
    }
   ],
   "source": [
    "agent_perform"
   ]
  },
  {
   "cell_type": "code",
   "execution_count": 12,
   "id": "b7bbcae1",
   "metadata": {},
   "outputs": [
    {
     "data": {
      "text/plain": [
       "1\n",
       "SL No                      object\n",
       "Date                       object\n",
       "Agent Name                 object\n",
       "Total Chats                object\n",
       "Average Response Time      object\n",
       "Average Resolution Time    object\n",
       "Average Rating             object\n",
       "Total Feedback             object\n",
       "dtype: object"
      ]
     },
     "execution_count": 12,
     "metadata": {},
     "output_type": "execute_result"
    }
   ],
   "source": [
    "agent_perform.dtypes"
   ]
  },
  {
   "cell_type": "markdown",
   "id": "7e34768b",
   "metadata": {},
   "source": [
    "# 1 .Find out there avarage rating on weekly basis keep this in a mind that they take two days of leave"
   ]
  },
  {
   "cell_type": "code",
   "execution_count": 13,
   "id": "d866fd85",
   "metadata": {},
   "outputs": [
    {
     "name": "stderr",
     "output_type": "stream",
     "text": [
      "<ipython-input-13-77c6ee14171e>:1: SettingWithCopyWarning: \n",
      "A value is trying to be set on a copy of a slice from a DataFrame.\n",
      "Try using .loc[row_indexer,col_indexer] = value instead\n",
      "\n",
      "See the caveats in the documentation: https://pandas.pydata.org/pandas-docs/stable/user_guide/indexing.html#returning-a-view-versus-a-copy\n",
      "  agent_perform['converted_date']=pd.to_datetime(agent_perform['Date'])\n"
     ]
    }
   ],
   "source": [
    "agent_perform['converted_date']=pd.to_datetime(agent_perform['Date'])"
   ]
  },
  {
   "cell_type": "code",
   "execution_count": 14,
   "id": "497ad83f",
   "metadata": {},
   "outputs": [
    {
     "name": "stderr",
     "output_type": "stream",
     "text": [
      "<ipython-input-14-d3ed842149d1>:1: SettingWithCopyWarning: \n",
      "A value is trying to be set on a copy of a slice from a DataFrame.\n",
      "Try using .loc[row_indexer,col_indexer] = value instead\n",
      "\n",
      "See the caveats in the documentation: https://pandas.pydata.org/pandas-docs/stable/user_guide/indexing.html#returning-a-view-versus-a-copy\n",
      "  agent_perform['week_day'] = agent_perform['converted_date'].dt.day_name()\n"
     ]
    }
   ],
   "source": [
    "agent_perform['week_day'] = agent_perform['converted_date'].dt.day_name()"
   ]
  },
  {
   "cell_type": "code",
   "execution_count": 15,
   "id": "12a85161",
   "metadata": {},
   "outputs": [
    {
     "name": "stderr",
     "output_type": "stream",
     "text": [
      "<ipython-input-15-bd714f44c228>:1: SettingWithCopyWarning: \n",
      "A value is trying to be set on a copy of a slice from a DataFrame.\n",
      "Try using .loc[row_indexer,col_indexer] = value instead\n",
      "\n",
      "See the caveats in the documentation: https://pandas.pydata.org/pandas-docs/stable/user_guide/indexing.html#returning-a-view-versus-a-copy\n",
      "  agent_perform['day'] = agent_perform['converted_date'].dt.dayofweek\n"
     ]
    }
   ],
   "source": [
    "agent_perform['day'] = agent_perform['converted_date'].dt.dayofweek"
   ]
  },
  {
   "cell_type": "code",
   "execution_count": 16,
   "id": "90917690",
   "metadata": {},
   "outputs": [
    {
     "data": {
      "text/html": [
       "<div>\n",
       "<style scoped>\n",
       "    .dataframe tbody tr th:only-of-type {\n",
       "        vertical-align: middle;\n",
       "    }\n",
       "\n",
       "    .dataframe tbody tr th {\n",
       "        vertical-align: top;\n",
       "    }\n",
       "\n",
       "    .dataframe thead th {\n",
       "        text-align: right;\n",
       "    }\n",
       "</style>\n",
       "<table border=\"1\" class=\"dataframe\">\n",
       "  <thead>\n",
       "    <tr style=\"text-align: right;\">\n",
       "      <th>1</th>\n",
       "      <th>SL No</th>\n",
       "      <th>Date</th>\n",
       "      <th>Agent Name</th>\n",
       "      <th>Total Chats</th>\n",
       "      <th>Average Response Time</th>\n",
       "      <th>Average Resolution Time</th>\n",
       "      <th>Average Rating</th>\n",
       "      <th>Total Feedback</th>\n",
       "      <th>converted_date</th>\n",
       "      <th>week_day</th>\n",
       "      <th>day</th>\n",
       "    </tr>\n",
       "  </thead>\n",
       "  <tbody>\n",
       "    <tr>\n",
       "      <th>2</th>\n",
       "      <td>1</td>\n",
       "      <td>2022-07-30</td>\n",
       "      <td>Prerna Singh</td>\n",
       "      <td>11</td>\n",
       "      <td>00:00:38</td>\n",
       "      <td>00:04:20</td>\n",
       "      <td>4.11</td>\n",
       "      <td>9</td>\n",
       "      <td>2022-07-30</td>\n",
       "      <td>Saturday</td>\n",
       "      <td>5</td>\n",
       "    </tr>\n",
       "    <tr>\n",
       "      <th>3</th>\n",
       "      <td>2</td>\n",
       "      <td>2022-07-30</td>\n",
       "      <td>Nandani Gupta</td>\n",
       "      <td>11</td>\n",
       "      <td>00:01:15</td>\n",
       "      <td>00:28:25</td>\n",
       "      <td>3.14</td>\n",
       "      <td>7</td>\n",
       "      <td>2022-07-30</td>\n",
       "      <td>Saturday</td>\n",
       "      <td>5</td>\n",
       "    </tr>\n",
       "    <tr>\n",
       "      <th>4</th>\n",
       "      <td>3</td>\n",
       "      <td>2022-07-30</td>\n",
       "      <td>Ameya Jain</td>\n",
       "      <td>14</td>\n",
       "      <td>00:00:30</td>\n",
       "      <td>00:11:36</td>\n",
       "      <td>4.55</td>\n",
       "      <td>11</td>\n",
       "      <td>2022-07-30</td>\n",
       "      <td>Saturday</td>\n",
       "      <td>5</td>\n",
       "    </tr>\n",
       "    <tr>\n",
       "      <th>5</th>\n",
       "      <td>4</td>\n",
       "      <td>2022-07-30</td>\n",
       "      <td>Mahesh Sarade</td>\n",
       "      <td>14</td>\n",
       "      <td>00:01:04</td>\n",
       "      <td>00:15:46</td>\n",
       "      <td>4.71</td>\n",
       "      <td>7</td>\n",
       "      <td>2022-07-30</td>\n",
       "      <td>Saturday</td>\n",
       "      <td>5</td>\n",
       "    </tr>\n",
       "    <tr>\n",
       "      <th>6</th>\n",
       "      <td>5</td>\n",
       "      <td>2022-07-30</td>\n",
       "      <td>Swati</td>\n",
       "      <td>14</td>\n",
       "      <td>00:01:11</td>\n",
       "      <td>00:16:33</td>\n",
       "      <td>3.67</td>\n",
       "      <td>6</td>\n",
       "      <td>2022-07-30</td>\n",
       "      <td>Saturday</td>\n",
       "      <td>5</td>\n",
       "    </tr>\n",
       "    <tr>\n",
       "      <th>...</th>\n",
       "      <td>...</td>\n",
       "      <td>...</td>\n",
       "      <td>...</td>\n",
       "      <td>...</td>\n",
       "      <td>...</td>\n",
       "      <td>...</td>\n",
       "      <td>...</td>\n",
       "      <td>...</td>\n",
       "      <td>...</td>\n",
       "      <td>...</td>\n",
       "      <td>...</td>\n",
       "    </tr>\n",
       "    <tr>\n",
       "      <th>2157</th>\n",
       "      <td>2156</td>\n",
       "      <td>2022-07-01</td>\n",
       "      <td>Sowmiya Sivakumar</td>\n",
       "      <td>0</td>\n",
       "      <td>00:00:00</td>\n",
       "      <td>00:00:00</td>\n",
       "      <td>0.0</td>\n",
       "      <td>0</td>\n",
       "      <td>2022-07-01</td>\n",
       "      <td>Friday</td>\n",
       "      <td>4</td>\n",
       "    </tr>\n",
       "    <tr>\n",
       "      <th>2158</th>\n",
       "      <td>2157</td>\n",
       "      <td>2022-07-01</td>\n",
       "      <td>Nitin M</td>\n",
       "      <td>0</td>\n",
       "      <td>00:00:00</td>\n",
       "      <td>00:00:00</td>\n",
       "      <td>0.0</td>\n",
       "      <td>0</td>\n",
       "      <td>2022-07-01</td>\n",
       "      <td>Friday</td>\n",
       "      <td>4</td>\n",
       "    </tr>\n",
       "    <tr>\n",
       "      <th>2159</th>\n",
       "      <td>2158</td>\n",
       "      <td>2022-07-01</td>\n",
       "      <td>Vivek</td>\n",
       "      <td>0</td>\n",
       "      <td>00:00:00</td>\n",
       "      <td>00:00:00</td>\n",
       "      <td>0.0</td>\n",
       "      <td>0</td>\n",
       "      <td>2022-07-01</td>\n",
       "      <td>Friday</td>\n",
       "      <td>4</td>\n",
       "    </tr>\n",
       "    <tr>\n",
       "      <th>2160</th>\n",
       "      <td>2159</td>\n",
       "      <td>2022-07-01</td>\n",
       "      <td>Ayushi Mishra</td>\n",
       "      <td>0</td>\n",
       "      <td>00:00:00</td>\n",
       "      <td>00:00:00</td>\n",
       "      <td>0.0</td>\n",
       "      <td>0</td>\n",
       "      <td>2022-07-01</td>\n",
       "      <td>Friday</td>\n",
       "      <td>4</td>\n",
       "    </tr>\n",
       "    <tr>\n",
       "      <th>2161</th>\n",
       "      <td>2160</td>\n",
       "      <td>2022-07-01</td>\n",
       "      <td>Chaitra K Hiremath</td>\n",
       "      <td>0</td>\n",
       "      <td>00:00:00</td>\n",
       "      <td>00:00:00</td>\n",
       "      <td>0.0</td>\n",
       "      <td>0</td>\n",
       "      <td>2022-07-01</td>\n",
       "      <td>Friday</td>\n",
       "      <td>4</td>\n",
       "    </tr>\n",
       "  </tbody>\n",
       "</table>\n",
       "<p>2160 rows × 11 columns</p>\n",
       "</div>"
      ],
      "text/plain": [
       "1    SL No        Date          Agent Name Total Chats Average Response Time  \\\n",
       "2        1  2022-07-30        Prerna Singh          11              00:00:38   \n",
       "3        2  2022-07-30       Nandani Gupta          11              00:01:15   \n",
       "4        3  2022-07-30          Ameya Jain          14              00:00:30   \n",
       "5        4  2022-07-30       Mahesh Sarade          14              00:01:04   \n",
       "6        5  2022-07-30              Swati           14              00:01:11   \n",
       "...    ...         ...                 ...         ...                   ...   \n",
       "2157  2156  2022-07-01   Sowmiya Sivakumar           0              00:00:00   \n",
       "2158  2157  2022-07-01             Nitin M           0              00:00:00   \n",
       "2159  2158  2022-07-01              Vivek            0              00:00:00   \n",
       "2160  2159  2022-07-01       Ayushi Mishra           0              00:00:00   \n",
       "2161  2160  2022-07-01  Chaitra K Hiremath           0              00:00:00   \n",
       "\n",
       "1    Average Resolution Time Average Rating Total Feedback converted_date  \\\n",
       "2                   00:04:20           4.11              9     2022-07-30   \n",
       "3                   00:28:25           3.14              7     2022-07-30   \n",
       "4                   00:11:36           4.55             11     2022-07-30   \n",
       "5                   00:15:46           4.71              7     2022-07-30   \n",
       "6                   00:16:33           3.67              6     2022-07-30   \n",
       "...                      ...            ...            ...            ...   \n",
       "2157                00:00:00            0.0              0     2022-07-01   \n",
       "2158                00:00:00            0.0              0     2022-07-01   \n",
       "2159                00:00:00            0.0              0     2022-07-01   \n",
       "2160                00:00:00            0.0              0     2022-07-01   \n",
       "2161                00:00:00            0.0              0     2022-07-01   \n",
       "\n",
       "1     week_day  day  \n",
       "2     Saturday    5  \n",
       "3     Saturday    5  \n",
       "4     Saturday    5  \n",
       "5     Saturday    5  \n",
       "6     Saturday    5  \n",
       "...        ...  ...  \n",
       "2157    Friday    4  \n",
       "2158    Friday    4  \n",
       "2159    Friday    4  \n",
       "2160    Friday    4  \n",
       "2161    Friday    4  \n",
       "\n",
       "[2160 rows x 11 columns]"
      ]
     },
     "execution_count": 16,
     "metadata": {},
     "output_type": "execute_result"
    }
   ],
   "source": [
    "agent_perform"
   ]
  },
  {
   "cell_type": "code",
   "execution_count": 17,
   "id": "52371d41",
   "metadata": {},
   "outputs": [
    {
     "name": "stderr",
     "output_type": "stream",
     "text": [
      "<ipython-input-17-162949c181e9>:1: SettingWithCopyWarning: \n",
      "A value is trying to be set on a copy of a slice from a DataFrame.\n",
      "Try using .loc[row_indexer,col_indexer] = value instead\n",
      "\n",
      "See the caveats in the documentation: https://pandas.pydata.org/pandas-docs/stable/user_guide/indexing.html#returning-a-view-versus-a-copy\n",
      "  agent_perform['Average Rating'] =agent_perform['Average Rating'].astype(float)\n"
     ]
    }
   ],
   "source": [
    "agent_perform['Average Rating'] =agent_perform['Average Rating'].astype(float)"
   ]
  },
  {
   "cell_type": "code",
   "execution_count": 18,
   "id": "fe97bc7e",
   "metadata": {},
   "outputs": [],
   "source": [
    "week_day_report = agent_perform[agent_perform['day'] <5] "
   ]
  },
  {
   "cell_type": "code",
   "execution_count": 19,
   "id": "6d9d2e9a",
   "metadata": {},
   "outputs": [
    {
     "data": {
      "text/plain": [
       "week_day\n",
       "Friday       1.490917\n",
       "Monday       1.492465\n",
       "Thursday     1.401285\n",
       "Tuesday      1.500243\n",
       "Wednesday    1.669931\n",
       "Name: Average Rating, dtype: float64"
      ]
     },
     "execution_count": 19,
     "metadata": {},
     "output_type": "execute_result"
    }
   ],
   "source": [
    "week_day_report.groupby('week_day')['Average Rating'].mean()"
   ]
  },
  {
   "cell_type": "markdown",
   "id": "49fdc0ce",
   "metadata": {},
   "source": [
    "# 2 .Total working days for each agents \n"
   ]
  },
  {
   "cell_type": "code",
   "execution_count": 20,
   "id": "d51d1259",
   "metadata": {},
   "outputs": [
    {
     "name": "stderr",
     "output_type": "stream",
     "text": [
      "<ipython-input-20-d73267a56ad5>:1: SettingWithCopyWarning: \n",
      "A value is trying to be set on a copy of a slice from a DataFrame.\n",
      "Try using .loc[row_indexer,col_indexer] = value instead\n",
      "\n",
      "See the caveats in the documentation: https://pandas.pydata.org/pandas-docs/stable/user_guide/indexing.html#returning-a-view-versus-a-copy\n",
      "  agent_login['converted_date']=pd.to_datetime(agent_login['Date'])\n"
     ]
    }
   ],
   "source": [
    "agent_login['converted_date']=pd.to_datetime(agent_login['Date'])"
   ]
  },
  {
   "cell_type": "code",
   "execution_count": 21,
   "id": "61e74581",
   "metadata": {},
   "outputs": [
    {
     "name": "stderr",
     "output_type": "stream",
     "text": [
      "<ipython-input-21-e95eea77b595>:1: SettingWithCopyWarning: \n",
      "A value is trying to be set on a copy of a slice from a DataFrame.\n",
      "Try using .loc[row_indexer,col_indexer] = value instead\n",
      "\n",
      "See the caveats in the documentation: https://pandas.pydata.org/pandas-docs/stable/user_guide/indexing.html#returning-a-view-versus-a-copy\n",
      "  agent_login['day'] = agent_login['converted_date'].dt.day\n"
     ]
    }
   ],
   "source": [
    "agent_login['day'] = agent_login['converted_date'].dt.day"
   ]
  },
  {
   "cell_type": "code",
   "execution_count": 22,
   "id": "f26b17ac",
   "metadata": {},
   "outputs": [
    {
     "name": "stderr",
     "output_type": "stream",
     "text": [
      "<ipython-input-22-2fb23874041f>:1: SettingWithCopyWarning: \n",
      "A value is trying to be set on a copy of a slice from a DataFrame.\n",
      "Try using .loc[row_indexer,col_indexer] = value instead\n",
      "\n",
      "See the caveats in the documentation: https://pandas.pydata.org/pandas-docs/stable/user_guide/indexing.html#returning-a-view-versus-a-copy\n",
      "  agent_login['month'] = agent_login['converted_date'].dt.month\n"
     ]
    }
   ],
   "source": [
    "agent_login['month'] = agent_login['converted_date'].dt.month"
   ]
  },
  {
   "cell_type": "code",
   "execution_count": 23,
   "id": "d862918a",
   "metadata": {},
   "outputs": [
    {
     "name": "stderr",
     "output_type": "stream",
     "text": [
      "<ipython-input-23-d838bcb35e74>:1: SettingWithCopyWarning: \n",
      "A value is trying to be set on a copy of a slice from a DataFrame.\n",
      "Try using .loc[row_indexer,col_indexer] = value instead\n",
      "\n",
      "See the caveats in the documentation: https://pandas.pydata.org/pandas-docs/stable/user_guide/indexing.html#returning-a-view-versus-a-copy\n",
      "  agent_login['year'] = agent_login['converted_date'].dt.year\n"
     ]
    }
   ],
   "source": [
    "agent_login['year'] = agent_login['converted_date'].dt.year"
   ]
  },
  {
   "cell_type": "code",
   "execution_count": 24,
   "id": "c31afd16",
   "metadata": {},
   "outputs": [
    {
     "data": {
      "text/plain": [
       "Agent\n",
       "Aditya Shinde              1\n",
       "Aditya_iot                 8\n",
       "Amersh                     2\n",
       "Ameya Jain                 7\n",
       "Ankitjha                   2\n",
       "Anurag Tiwari             10\n",
       "Aravind                    7\n",
       "Ayushi Mishra              9\n",
       "Bharath                    8\n",
       "Boktiar Ahmed Bappy        9\n",
       "Chaitra K Hiremath         7\n",
       "Deepranjan Gupta          10\n",
       "Dibyanshu                  9\n",
       "Harikrishnan Shaji         9\n",
       "Hrisikesh Neogi            9\n",
       "Hyder Abbas                2\n",
       "Ineuron Intelligence       1\n",
       "Ishawant Kumar            11\n",
       "Jawala Prakash             9\n",
       "Jaydeep Dixit              7\n",
       "Khushboo Priya             8\n",
       "Madhulika G                8\n",
       "Mahesh Sarade              8\n",
       "Maitry                     5\n",
       "Manjunatha A               7\n",
       "Mithun S                   8\n",
       "Mukesh                     2\n",
       "Muskan Garg                6\n",
       "Nandani Gupta              9\n",
       "Nishtha Jain               8\n",
       "Nitin M                    1\n",
       "Prabir Kumar Satapathy     7\n",
       "Prateek _iot              11\n",
       "Prerna Singh               9\n",
       "Rishav Dash                7\n",
       "Saikumarreddy N            7\n",
       "Sanjeev Kumar              9\n",
       "Saurabh Shukla             4\n",
       "Shiva Srivastava           8\n",
       "Shivan K                   8\n",
       "Shivananda Sonwane        10\n",
       "Shubham Sharma            11\n",
       "Sowmiya Sivakumar          8\n",
       "Sudhanshu Kumar            6\n",
       "Suraj S Bilgi              2\n",
       "Swati                      4\n",
       "Tarun                      1\n",
       "Wasim                      9\n",
       "Zeeshan                    9\n",
       "Name: day, dtype: int64"
      ]
     },
     "execution_count": 24,
     "metadata": {},
     "output_type": "execute_result"
    }
   ],
   "source": [
    "agent_login.groupby([\"Agent\"])[\"day\"].nunique()"
   ]
  },
  {
   "cell_type": "markdown",
   "id": "7748f35f",
   "metadata": {},
   "source": [
    "# 3. Total query that you have taken \n"
   ]
  },
  {
   "cell_type": "code",
   "execution_count": 25,
   "id": "61cf83a3",
   "metadata": {},
   "outputs": [
    {
     "data": {
      "text/plain": [
       "14720"
      ]
     },
     "execution_count": 25,
     "metadata": {},
     "output_type": "execute_result"
    }
   ],
   "source": [
    "sum(agent_perform['Total Chats'].astype(int) )"
   ]
  },
  {
   "cell_type": "markdown",
   "id": "f2277d0f",
   "metadata": {},
   "source": [
    "# 4. total Feedback that you have received \n"
   ]
  },
  {
   "cell_type": "code",
   "execution_count": 26,
   "id": "79c583c4",
   "metadata": {},
   "outputs": [
    {
     "data": {
      "text/plain": [
       "9259"
      ]
     },
     "execution_count": 26,
     "metadata": {},
     "output_type": "execute_result"
    }
   ],
   "source": [
    "sum(agent_perform['Total Feedback'].astype(int) )"
   ]
  },
  {
   "cell_type": "markdown",
   "id": "65fda196",
   "metadata": {},
   "source": [
    "# 5. a agent name who have average rating between 3.5 to 4 \n"
   ]
  },
  {
   "cell_type": "code",
   "execution_count": 27,
   "id": "9bffb13d",
   "metadata": {},
   "outputs": [
    {
     "data": {
      "text/html": [
       "<div>\n",
       "<style scoped>\n",
       "    .dataframe tbody tr th:only-of-type {\n",
       "        vertical-align: middle;\n",
       "    }\n",
       "\n",
       "    .dataframe tbody tr th {\n",
       "        vertical-align: top;\n",
       "    }\n",
       "\n",
       "    .dataframe thead th {\n",
       "        text-align: right;\n",
       "    }\n",
       "</style>\n",
       "<table border=\"1\" class=\"dataframe\">\n",
       "  <thead>\n",
       "    <tr style=\"text-align: right;\">\n",
       "      <th>1</th>\n",
       "      <th>SL No</th>\n",
       "      <th>Date</th>\n",
       "      <th>Agent Name</th>\n",
       "      <th>Total Chats</th>\n",
       "      <th>Average Response Time</th>\n",
       "      <th>Average Resolution Time</th>\n",
       "      <th>Average Rating</th>\n",
       "      <th>Total Feedback</th>\n",
       "      <th>converted_date</th>\n",
       "      <th>week_day</th>\n",
       "      <th>day</th>\n",
       "    </tr>\n",
       "  </thead>\n",
       "  <tbody>\n",
       "    <tr>\n",
       "      <th>6</th>\n",
       "      <td>5</td>\n",
       "      <td>2022-07-30</td>\n",
       "      <td>Swati</td>\n",
       "      <td>14</td>\n",
       "      <td>00:01:11</td>\n",
       "      <td>00:16:33</td>\n",
       "      <td>3.67</td>\n",
       "      <td>6</td>\n",
       "      <td>2022-07-30</td>\n",
       "      <td>Saturday</td>\n",
       "      <td>5</td>\n",
       "    </tr>\n",
       "    <tr>\n",
       "      <th>12</th>\n",
       "      <td>11</td>\n",
       "      <td>2022-07-30</td>\n",
       "      <td>Manjunatha A</td>\n",
       "      <td>11</td>\n",
       "      <td>00:00:47</td>\n",
       "      <td>00:42:56</td>\n",
       "      <td>3.60</td>\n",
       "      <td>5</td>\n",
       "      <td>2022-07-30</td>\n",
       "      <td>Saturday</td>\n",
       "      <td>5</td>\n",
       "    </tr>\n",
       "    <tr>\n",
       "      <th>75</th>\n",
       "      <td>74</td>\n",
       "      <td>2022-07-29</td>\n",
       "      <td>Boktiar Ahmed Bappy</td>\n",
       "      <td>11</td>\n",
       "      <td>00:01:59</td>\n",
       "      <td>00:18:25</td>\n",
       "      <td>4.00</td>\n",
       "      <td>5</td>\n",
       "      <td>2022-07-29</td>\n",
       "      <td>Friday</td>\n",
       "      <td>4</td>\n",
       "    </tr>\n",
       "    <tr>\n",
       "      <th>78</th>\n",
       "      <td>77</td>\n",
       "      <td>2022-07-29</td>\n",
       "      <td>Prateek _iot</td>\n",
       "      <td>8</td>\n",
       "      <td>00:00:36</td>\n",
       "      <td>00:10:41</td>\n",
       "      <td>3.75</td>\n",
       "      <td>4</td>\n",
       "      <td>2022-07-29</td>\n",
       "      <td>Friday</td>\n",
       "      <td>4</td>\n",
       "    </tr>\n",
       "    <tr>\n",
       "      <th>80</th>\n",
       "      <td>79</td>\n",
       "      <td>2022-07-29</td>\n",
       "      <td>Nandani Gupta</td>\n",
       "      <td>24</td>\n",
       "      <td>00:01:24</td>\n",
       "      <td>00:28:53</td>\n",
       "      <td>3.79</td>\n",
       "      <td>14</td>\n",
       "      <td>2022-07-29</td>\n",
       "      <td>Friday</td>\n",
       "      <td>4</td>\n",
       "    </tr>\n",
       "    <tr>\n",
       "      <th>...</th>\n",
       "      <td>...</td>\n",
       "      <td>...</td>\n",
       "      <td>...</td>\n",
       "      <td>...</td>\n",
       "      <td>...</td>\n",
       "      <td>...</td>\n",
       "      <td>...</td>\n",
       "      <td>...</td>\n",
       "      <td>...</td>\n",
       "      <td>...</td>\n",
       "      <td>...</td>\n",
       "    </tr>\n",
       "    <tr>\n",
       "      <th>1943</th>\n",
       "      <td>1942</td>\n",
       "      <td>2022-07-04</td>\n",
       "      <td>Jawala Prakash</td>\n",
       "      <td>6</td>\n",
       "      <td>00:00:44</td>\n",
       "      <td>00:02:28</td>\n",
       "      <td>3.80</td>\n",
       "      <td>5</td>\n",
       "      <td>2022-07-04</td>\n",
       "      <td>Monday</td>\n",
       "      <td>0</td>\n",
       "    </tr>\n",
       "    <tr>\n",
       "      <th>2020</th>\n",
       "      <td>2019</td>\n",
       "      <td>2022-07-02</td>\n",
       "      <td>Sanjeev Kumar</td>\n",
       "      <td>14</td>\n",
       "      <td>00:01:34</td>\n",
       "      <td>00:18:20</td>\n",
       "      <td>4.00</td>\n",
       "      <td>12</td>\n",
       "      <td>2022-07-02</td>\n",
       "      <td>Saturday</td>\n",
       "      <td>5</td>\n",
       "    </tr>\n",
       "    <tr>\n",
       "      <th>2023</th>\n",
       "      <td>2022</td>\n",
       "      <td>2022-07-02</td>\n",
       "      <td>Aditya Shinde</td>\n",
       "      <td>57</td>\n",
       "      <td>00:01:26</td>\n",
       "      <td>00:19:52</td>\n",
       "      <td>3.54</td>\n",
       "      <td>28</td>\n",
       "      <td>2022-07-02</td>\n",
       "      <td>Saturday</td>\n",
       "      <td>5</td>\n",
       "    </tr>\n",
       "    <tr>\n",
       "      <th>2025</th>\n",
       "      <td>2024</td>\n",
       "      <td>2022-07-02</td>\n",
       "      <td>Deepranjan Gupta</td>\n",
       "      <td>52</td>\n",
       "      <td>00:01:10</td>\n",
       "      <td>00:35:14</td>\n",
       "      <td>3.71</td>\n",
       "      <td>24</td>\n",
       "      <td>2022-07-02</td>\n",
       "      <td>Saturday</td>\n",
       "      <td>5</td>\n",
       "    </tr>\n",
       "    <tr>\n",
       "      <th>2099</th>\n",
       "      <td>2098</td>\n",
       "      <td>2022-07-01</td>\n",
       "      <td>Sanjeev Kumar</td>\n",
       "      <td>22</td>\n",
       "      <td>00:01:12</td>\n",
       "      <td>00:30:34</td>\n",
       "      <td>4.00</td>\n",
       "      <td>13</td>\n",
       "      <td>2022-07-01</td>\n",
       "      <td>Friday</td>\n",
       "      <td>4</td>\n",
       "    </tr>\n",
       "  </tbody>\n",
       "</table>\n",
       "<p>114 rows × 11 columns</p>\n",
       "</div>"
      ],
      "text/plain": [
       "1    SL No        Date           Agent Name Total Chats Average Response Time  \\\n",
       "6        5  2022-07-30               Swati           14              00:01:11   \n",
       "12      11  2022-07-30         Manjunatha A          11              00:00:47   \n",
       "75      74  2022-07-29  Boktiar Ahmed Bappy          11              00:01:59   \n",
       "78      77  2022-07-29        Prateek _iot            8              00:00:36   \n",
       "80      79  2022-07-29        Nandani Gupta          24              00:01:24   \n",
       "...    ...         ...                  ...         ...                   ...   \n",
       "1943  1942  2022-07-04       Jawala Prakash           6              00:00:44   \n",
       "2020  2019  2022-07-02        Sanjeev Kumar          14              00:01:34   \n",
       "2023  2022  2022-07-02        Aditya Shinde          57              00:01:26   \n",
       "2025  2024  2022-07-02     Deepranjan Gupta          52              00:01:10   \n",
       "2099  2098  2022-07-01        Sanjeev Kumar          22              00:01:12   \n",
       "\n",
       "1    Average Resolution Time  Average Rating Total Feedback converted_date  \\\n",
       "6                   00:16:33            3.67              6     2022-07-30   \n",
       "12                  00:42:56            3.60              5     2022-07-30   \n",
       "75                  00:18:25            4.00              5     2022-07-29   \n",
       "78                  00:10:41            3.75              4     2022-07-29   \n",
       "80                  00:28:53            3.79             14     2022-07-29   \n",
       "...                      ...             ...            ...            ...   \n",
       "1943                00:02:28            3.80              5     2022-07-04   \n",
       "2020                00:18:20            4.00             12     2022-07-02   \n",
       "2023                00:19:52            3.54             28     2022-07-02   \n",
       "2025                00:35:14            3.71             24     2022-07-02   \n",
       "2099                00:30:34            4.00             13     2022-07-01   \n",
       "\n",
       "1     week_day  day  \n",
       "6     Saturday    5  \n",
       "12    Saturday    5  \n",
       "75      Friday    4  \n",
       "78      Friday    4  \n",
       "80      Friday    4  \n",
       "...        ...  ...  \n",
       "1943    Monday    0  \n",
       "2020  Saturday    5  \n",
       "2023  Saturday    5  \n",
       "2025  Saturday    5  \n",
       "2099    Friday    4  \n",
       "\n",
       "[114 rows x 11 columns]"
      ]
     },
     "execution_count": 27,
     "metadata": {},
     "output_type": "execute_result"
    }
   ],
   "source": [
    "agent_perform[agent_perform['Average Rating'].between(3.5, 4)]"
   ]
  },
  {
   "cell_type": "markdown",
   "id": "929cc0ba",
   "metadata": {},
   "source": [
    "# 6 . Agent name who have rating lesss then 3.5 \n"
   ]
  },
  {
   "cell_type": "code",
   "execution_count": 28,
   "id": "617d8443",
   "metadata": {},
   "outputs": [
    {
     "data": {
      "text/plain": [
       "3            Nandani Gupta\n",
       "21        Hitesh Choudhary\n",
       "22              Sanjeevan \n",
       "23                Anirudh \n",
       "24        Shiva Srivastava\n",
       "               ...        \n",
       "2157     Sowmiya Sivakumar\n",
       "2158               Nitin M\n",
       "2159                Vivek \n",
       "2160         Ayushi Mishra\n",
       "2161    Chaitra K Hiremath\n",
       "Name: Agent Name, Length: 1474, dtype: object"
      ]
     },
     "execution_count": 28,
     "metadata": {},
     "output_type": "execute_result"
    }
   ],
   "source": [
    "agent_perform[agent_perform['Average Rating'] < 3.5]['Agent Name']"
   ]
  },
  {
   "cell_type": "markdown",
   "id": "87907685",
   "metadata": {},
   "source": [
    "# 7 . agent name who have rating more then 4.5 \n"
   ]
  },
  {
   "cell_type": "code",
   "execution_count": 29,
   "id": "ac4e72dd",
   "metadata": {},
   "outputs": [
    {
     "data": {
      "text/plain": [
       "4               Ameya Jain\n",
       "5            Mahesh Sarade\n",
       "7                  Mukesh \n",
       "8          Saikumarreddy N\n",
       "9            Sanjeev Kumar\n",
       "               ...        \n",
       "2102        Shubham Sharma\n",
       "2103         Jaydeep Dixit\n",
       "2104    Shivananda Sonwane\n",
       "2105        Khushboo Priya\n",
       "2106       Hrisikesh Neogi\n",
       "Name: Agent Name, Length: 307, dtype: object"
      ]
     },
     "execution_count": 29,
     "metadata": {},
     "output_type": "execute_result"
    }
   ],
   "source": [
    "agent_perform[agent_perform['Average Rating'] > 4.5]['Agent Name']"
   ]
  },
  {
   "cell_type": "markdown",
   "id": "c608e1e7",
   "metadata": {},
   "source": [
    "# 8 . how many feedaback agents have received more then 4.5 average\n"
   ]
  },
  {
   "cell_type": "code",
   "execution_count": 30,
   "id": "53187fa0",
   "metadata": {},
   "outputs": [
    {
     "data": {
      "text/plain": [
       "621"
      ]
     },
     "execution_count": 30,
     "metadata": {},
     "output_type": "execute_result"
    }
   ],
   "source": [
    "agent_perform[agent_perform['Total Feedback'].astype(int) > 4.5]['Agent Name'].size"
   ]
  },
  {
   "cell_type": "markdown",
   "id": "b86b93b5",
   "metadata": {},
   "source": [
    "# 9 . average weekly response time for each agent \n"
   ]
  },
  {
   "cell_type": "code",
   "execution_count": 31,
   "id": "9d04a298",
   "metadata": {},
   "outputs": [
    {
     "name": "stderr",
     "output_type": "stream",
     "text": [
      "<ipython-input-31-9ff9827d933e>:1: SettingWithCopyWarning: \n",
      "A value is trying to be set on a copy of a slice from a DataFrame.\n",
      "Try using .loc[row_indexer,col_indexer] = value instead\n",
      "\n",
      "See the caveats in the documentation: https://pandas.pydata.org/pandas-docs/stable/user_guide/indexing.html#returning-a-view-versus-a-copy\n",
      "  agent_perform['Average Response Time']=pd.to_timedelta(agent_perform[\"Average Response Time\"] )\n"
     ]
    }
   ],
   "source": [
    "agent_perform['Average Response Time']=pd.to_timedelta(agent_perform[\"Average Response Time\"] )"
   ]
  },
  {
   "cell_type": "code",
   "execution_count": 32,
   "id": "04b16639",
   "metadata": {},
   "outputs": [
    {
     "name": "stderr",
     "output_type": "stream",
     "text": [
      "<ipython-input-32-f8c671083d74>:1: SettingWithCopyWarning: \n",
      "A value is trying to be set on a copy of a slice from a DataFrame.\n",
      "Try using .loc[row_indexer,col_indexer] = value instead\n",
      "\n",
      "See the caveats in the documentation: https://pandas.pydata.org/pandas-docs/stable/user_guide/indexing.html#returning-a-view-versus-a-copy\n",
      "  agent_perform['minute']=agent_perform['Average Response Time'].dt.components['minutes']\n"
     ]
    }
   ],
   "source": [
    "agent_perform['minute']=agent_perform['Average Response Time'].dt.components['minutes']"
   ]
  },
  {
   "cell_type": "code",
   "execution_count": 33,
   "id": "bd1688af",
   "metadata": {},
   "outputs": [
    {
     "name": "stderr",
     "output_type": "stream",
     "text": [
      "<ipython-input-33-b026c25a911e>:1: FutureWarning: Indexing with multiple keys (implicitly converted to a tuple of keys) will be deprecated, use a list instead.\n",
      "  agent_perform.groupby('Agent Name')['week_day','minute'].mean()\n"
     ]
    },
    {
     "data": {
      "text/html": [
       "<div>\n",
       "<style scoped>\n",
       "    .dataframe tbody tr th:only-of-type {\n",
       "        vertical-align: middle;\n",
       "    }\n",
       "\n",
       "    .dataframe tbody tr th {\n",
       "        vertical-align: top;\n",
       "    }\n",
       "\n",
       "    .dataframe thead th {\n",
       "        text-align: right;\n",
       "    }\n",
       "</style>\n",
       "<table border=\"1\" class=\"dataframe\">\n",
       "  <thead>\n",
       "    <tr style=\"text-align: right;\">\n",
       "      <th>1</th>\n",
       "      <th>minute</th>\n",
       "    </tr>\n",
       "    <tr>\n",
       "      <th>Agent Name</th>\n",
       "      <th></th>\n",
       "    </tr>\n",
       "  </thead>\n",
       "  <tbody>\n",
       "    <tr>\n",
       "      <th>Abhishek</th>\n",
       "      <td>0.000000</td>\n",
       "    </tr>\n",
       "    <tr>\n",
       "      <th>Aditya</th>\n",
       "      <td>0.000000</td>\n",
       "    </tr>\n",
       "    <tr>\n",
       "      <th>Aditya Shinde</th>\n",
       "      <td>0.333333</td>\n",
       "    </tr>\n",
       "    <tr>\n",
       "      <th>Aditya_iot</th>\n",
       "      <td>0.200000</td>\n",
       "    </tr>\n",
       "    <tr>\n",
       "      <th>Amersh</th>\n",
       "      <td>0.000000</td>\n",
       "    </tr>\n",
       "    <tr>\n",
       "      <th>...</th>\n",
       "      <td>...</td>\n",
       "    </tr>\n",
       "    <tr>\n",
       "      <th>Uday Mishra</th>\n",
       "      <td>0.000000</td>\n",
       "    </tr>\n",
       "    <tr>\n",
       "      <th>Vasanth P</th>\n",
       "      <td>0.000000</td>\n",
       "    </tr>\n",
       "    <tr>\n",
       "      <th>Vivek</th>\n",
       "      <td>0.133333</td>\n",
       "    </tr>\n",
       "    <tr>\n",
       "      <th>Wasim</th>\n",
       "      <td>0.200000</td>\n",
       "    </tr>\n",
       "    <tr>\n",
       "      <th>Zeeshan</th>\n",
       "      <td>0.733333</td>\n",
       "    </tr>\n",
       "  </tbody>\n",
       "</table>\n",
       "<p>70 rows × 1 columns</p>\n",
       "</div>"
      ],
      "text/plain": [
       "1                minute\n",
       "Agent Name             \n",
       "Abhishek       0.000000\n",
       "Aditya         0.000000\n",
       "Aditya Shinde  0.333333\n",
       "Aditya_iot     0.200000\n",
       "Amersh         0.000000\n",
       "...                 ...\n",
       "Uday Mishra    0.000000\n",
       "Vasanth P      0.000000\n",
       "Vivek          0.133333\n",
       "Wasim          0.200000\n",
       "Zeeshan        0.733333\n",
       "\n",
       "[70 rows x 1 columns]"
      ]
     },
     "execution_count": 33,
     "metadata": {},
     "output_type": "execute_result"
    }
   ],
   "source": [
    "agent_perform.groupby('Agent Name')['week_day','minute'].mean()\n"
   ]
  },
  {
   "cell_type": "markdown",
   "id": "7f51c779",
   "metadata": {},
   "source": [
    "# 10 . average weekely resolution time for each agents \n"
   ]
  },
  {
   "cell_type": "code",
   "execution_count": 34,
   "id": "7c81c903",
   "metadata": {},
   "outputs": [
    {
     "name": "stderr",
     "output_type": "stream",
     "text": [
      "<ipython-input-34-0dc918c084f6>:1: SettingWithCopyWarning: \n",
      "A value is trying to be set on a copy of a slice from a DataFrame.\n",
      "Try using .loc[row_indexer,col_indexer] = value instead\n",
      "\n",
      "See the caveats in the documentation: https://pandas.pydata.org/pandas-docs/stable/user_guide/indexing.html#returning-a-view-versus-a-copy\n",
      "  agent_perform['Average Resolution Time']=pd.to_timedelta(agent_perform[\"Average Resolution Time\"] )\n"
     ]
    }
   ],
   "source": [
    "agent_perform['Average Resolution Time']=pd.to_timedelta(agent_perform[\"Average Resolution Time\"] )"
   ]
  },
  {
   "cell_type": "code",
   "execution_count": 35,
   "id": "0ab8b3b4",
   "metadata": {},
   "outputs": [
    {
     "name": "stderr",
     "output_type": "stream",
     "text": [
      "<ipython-input-35-ede10518c94d>:1: SettingWithCopyWarning: \n",
      "A value is trying to be set on a copy of a slice from a DataFrame.\n",
      "Try using .loc[row_indexer,col_indexer] = value instead\n",
      "\n",
      "See the caveats in the documentation: https://pandas.pydata.org/pandas-docs/stable/user_guide/indexing.html#returning-a-view-versus-a-copy\n",
      "  agent_perform['res_minute']=agent_perform['Average Resolution Time'].dt.components['minutes']\n"
     ]
    }
   ],
   "source": [
    "agent_perform['res_minute']=agent_perform['Average Resolution Time'].dt.components['minutes']"
   ]
  },
  {
   "cell_type": "code",
   "execution_count": 36,
   "id": "4efe1086",
   "metadata": {},
   "outputs": [
    {
     "name": "stderr",
     "output_type": "stream",
     "text": [
      "<ipython-input-36-bbb9ddf00544>:1: FutureWarning: Indexing with multiple keys (implicitly converted to a tuple of keys) will be deprecated, use a list instead.\n",
      "  agent_perform.groupby('Agent Name')['week_day','res_minute'].mean()\n"
     ]
    },
    {
     "data": {
      "text/html": [
       "<div>\n",
       "<style scoped>\n",
       "    .dataframe tbody tr th:only-of-type {\n",
       "        vertical-align: middle;\n",
       "    }\n",
       "\n",
       "    .dataframe tbody tr th {\n",
       "        vertical-align: top;\n",
       "    }\n",
       "\n",
       "    .dataframe thead th {\n",
       "        text-align: right;\n",
       "    }\n",
       "</style>\n",
       "<table border=\"1\" class=\"dataframe\">\n",
       "  <thead>\n",
       "    <tr style=\"text-align: right;\">\n",
       "      <th>1</th>\n",
       "      <th>res_minute</th>\n",
       "    </tr>\n",
       "    <tr>\n",
       "      <th>Agent Name</th>\n",
       "      <th></th>\n",
       "    </tr>\n",
       "  </thead>\n",
       "  <tbody>\n",
       "    <tr>\n",
       "      <th>Abhishek</th>\n",
       "      <td>0.000000</td>\n",
       "    </tr>\n",
       "    <tr>\n",
       "      <th>Aditya</th>\n",
       "      <td>0.000000</td>\n",
       "    </tr>\n",
       "    <tr>\n",
       "      <th>Aditya Shinde</th>\n",
       "      <td>10.166667</td>\n",
       "    </tr>\n",
       "    <tr>\n",
       "      <th>Aditya_iot</th>\n",
       "      <td>9.500000</td>\n",
       "    </tr>\n",
       "    <tr>\n",
       "      <th>Amersh</th>\n",
       "      <td>0.000000</td>\n",
       "    </tr>\n",
       "    <tr>\n",
       "      <th>...</th>\n",
       "      <td>...</td>\n",
       "    </tr>\n",
       "    <tr>\n",
       "      <th>Uday Mishra</th>\n",
       "      <td>0.000000</td>\n",
       "    </tr>\n",
       "    <tr>\n",
       "      <th>Vasanth P</th>\n",
       "      <td>0.000000</td>\n",
       "    </tr>\n",
       "    <tr>\n",
       "      <th>Vivek</th>\n",
       "      <td>2.466667</td>\n",
       "    </tr>\n",
       "    <tr>\n",
       "      <th>Wasim</th>\n",
       "      <td>11.200000</td>\n",
       "    </tr>\n",
       "    <tr>\n",
       "      <th>Zeeshan</th>\n",
       "      <td>10.533333</td>\n",
       "    </tr>\n",
       "  </tbody>\n",
       "</table>\n",
       "<p>70 rows × 1 columns</p>\n",
       "</div>"
      ],
      "text/plain": [
       "1              res_minute\n",
       "Agent Name               \n",
       "Abhishek         0.000000\n",
       "Aditya           0.000000\n",
       "Aditya Shinde   10.166667\n",
       "Aditya_iot       9.500000\n",
       "Amersh           0.000000\n",
       "...                   ...\n",
       "Uday Mishra      0.000000\n",
       "Vasanth P        0.000000\n",
       "Vivek            2.466667\n",
       "Wasim           11.200000\n",
       "Zeeshan         10.533333\n",
       "\n",
       "[70 rows x 1 columns]"
      ]
     },
     "execution_count": 36,
     "metadata": {},
     "output_type": "execute_result"
    }
   ],
   "source": [
    "agent_perform.groupby('Agent Name')['week_day','res_minute'].mean()\n"
   ]
  },
  {
   "cell_type": "code",
   "execution_count": null,
   "id": "12db363a",
   "metadata": {},
   "outputs": [],
   "source": []
  },
  {
   "cell_type": "markdown",
   "id": "e9ceefe3",
   "metadata": {},
   "source": [
    "# 11 . list of all agents name \n"
   ]
  },
  {
   "cell_type": "code",
   "execution_count": 37,
   "id": "bce65a48",
   "metadata": {},
   "outputs": [
    {
     "data": {
      "text/plain": [
       "array(['Shivananda Sonwane', 'Khushboo Priya', 'Nandani Gupta',\n",
       "       'Hrisikesh Neogi', 'Mukesh ', 'Sowmiya Sivakumar', 'Manjunatha A',\n",
       "       'Harikrishnan Shaji', 'Suraj S Bilgi', 'Shivan K', 'Anurag Tiwari',\n",
       "       'Ishawant Kumar', 'Shubham Sharma', 'Prerna Singh', 'Nishtha Jain',\n",
       "       'Prateek _iot ', 'Mithun S', 'Madhulika G', 'Boktiar Ahmed Bappy',\n",
       "       'Jawala Prakash', 'Dibyanshu ', 'Deepranjan Gupta',\n",
       "       'Jaydeep Dixit', 'Ayushi Mishra', 'Mahesh Sarade', 'Muskan Garg',\n",
       "       'Chaitra K Hiremath', 'Shiva Srivastava', 'Aditya_iot ',\n",
       "       'Prabir Kumar Satapathy', 'Sanjeev Kumar', 'Zeeshan ',\n",
       "       'Rishav Dash', 'Wasim ', 'Bharath ', 'Ameya Jain',\n",
       "       'Saikumarreddy N', 'Aravind ', 'Amersh ', 'Sudhanshu Kumar',\n",
       "       'Ankitjha ', 'Maitry ', 'Aditya Shinde', 'Hyder Abbas', 'Swati ',\n",
       "       'Saurabh Shukla', 'Nitin M', 'Ineuron Intelligence ', 'Tarun '],\n",
       "      dtype=object)"
      ]
     },
     "execution_count": 37,
     "metadata": {},
     "output_type": "execute_result"
    }
   ],
   "source": [
    "agent_login['Agent'].unique()"
   ]
  },
  {
   "cell_type": "markdown",
   "id": "04d29768",
   "metadata": {},
   "source": [
    "# 12 . percentage of chat on which they have received a feedback \n"
   ]
  },
  {
   "cell_type": "code",
   "execution_count": 38,
   "id": "a491a854",
   "metadata": {},
   "outputs": [
    {
     "name": "stderr",
     "output_type": "stream",
     "text": [
      "<ipython-input-38-a0bf543b72fa>:1: SettingWithCopyWarning: \n",
      "A value is trying to be set on a copy of a slice from a DataFrame.\n",
      "Try using .loc[row_indexer,col_indexer] = value instead\n",
      "\n",
      "See the caveats in the documentation: https://pandas.pydata.org/pandas-docs/stable/user_guide/indexing.html#returning-a-view-versus-a-copy\n",
      "  agent_perform['percentage_chat_revceive']=(agent_perform['Total Feedback'].astype(int) / agent_perform['Total Chats'].astype(int)) *100\n"
     ]
    }
   ],
   "source": [
    "agent_perform['percentage_chat_revceive']=(agent_perform['Total Feedback'].astype(int) / agent_perform['Total Chats'].astype(int)) *100"
   ]
  },
  {
   "cell_type": "code",
   "execution_count": 39,
   "id": "84c4fd7a",
   "metadata": {},
   "outputs": [
    {
     "data": {
      "text/plain": [
       "2     81.818182\n",
       "3     63.636364\n",
       "4     78.571429\n",
       "5     50.000000\n",
       "6     42.857143\n",
       "7     88.888889\n",
       "8     80.000000\n",
       "9     50.000000\n",
       "10    61.538462\n",
       "11    80.000000\n",
       "Name: percentage_chat_revceive, dtype: float64"
      ]
     },
     "execution_count": 39,
     "metadata": {},
     "output_type": "execute_result"
    }
   ],
   "source": [
    "agent_perform['percentage_chat_revceive'].head(10)"
   ]
  },
  {
   "cell_type": "markdown",
   "id": "1449e9aa",
   "metadata": {},
   "source": [
    "# 13 . Total contributation hour for each and every agents weekly basis \n"
   ]
  },
  {
   "cell_type": "code",
   "execution_count": 40,
   "id": "7538b1f4",
   "metadata": {},
   "outputs": [
    {
     "name": "stderr",
     "output_type": "stream",
     "text": [
      "<ipython-input-40-4d193efc9a74>:1: SettingWithCopyWarning: \n",
      "A value is trying to be set on a copy of a slice from a DataFrame.\n",
      "Try using .loc[row_indexer,col_indexer] = value instead\n",
      "\n",
      "See the caveats in the documentation: https://pandas.pydata.org/pandas-docs/stable/user_guide/indexing.html#returning-a-view-versus-a-copy\n",
      "  agent_login['Duration'] = pd.to_timedelta(agent_login['Duration'])\n"
     ]
    }
   ],
   "source": [
    "agent_login['Duration'] = pd.to_timedelta(agent_login['Duration'])"
   ]
  },
  {
   "cell_type": "code",
   "execution_count": 41,
   "id": "13fbd611",
   "metadata": {},
   "outputs": [
    {
     "name": "stderr",
     "output_type": "stream",
     "text": [
      "<ipython-input-41-93dbec19bfd5>:1: SettingWithCopyWarning: \n",
      "A value is trying to be set on a copy of a slice from a DataFrame.\n",
      "Try using .loc[row_indexer,col_indexer] = value instead\n",
      "\n",
      "See the caveats in the documentation: https://pandas.pydata.org/pandas-docs/stable/user_guide/indexing.html#returning-a-view-versus-a-copy\n",
      "  agent_login['hour']=agent_login['Duration'].dt.components['hours']\n"
     ]
    }
   ],
   "source": [
    "agent_login['hour']=agent_login['Duration'].dt.components['hours']"
   ]
  },
  {
   "cell_type": "code",
   "execution_count": 42,
   "id": "d3876e71",
   "metadata": {},
   "outputs": [
    {
     "data": {
      "text/html": [
       "<div>\n",
       "<style scoped>\n",
       "    .dataframe tbody tr th:only-of-type {\n",
       "        vertical-align: middle;\n",
       "    }\n",
       "\n",
       "    .dataframe tbody tr th {\n",
       "        vertical-align: top;\n",
       "    }\n",
       "\n",
       "    .dataframe thead th {\n",
       "        text-align: right;\n",
       "    }\n",
       "</style>\n",
       "<table border=\"1\" class=\"dataframe\">\n",
       "  <thead>\n",
       "    <tr style=\"text-align: right;\">\n",
       "      <th>1</th>\n",
       "      <th>SL No</th>\n",
       "      <th>Agent</th>\n",
       "      <th>Date</th>\n",
       "      <th>Login Time</th>\n",
       "      <th>Logout Time</th>\n",
       "      <th>Duration</th>\n",
       "      <th>converted_date</th>\n",
       "      <th>day</th>\n",
       "      <th>month</th>\n",
       "      <th>year</th>\n",
       "      <th>hour</th>\n",
       "    </tr>\n",
       "  </thead>\n",
       "  <tbody>\n",
       "    <tr>\n",
       "      <th>2</th>\n",
       "      <td>1</td>\n",
       "      <td>Shivananda Sonwane</td>\n",
       "      <td>30-Jul-22</td>\n",
       "      <td>03:35:29 PM</td>\n",
       "      <td>05:39:39 PM</td>\n",
       "      <td>0 days 02:04:10</td>\n",
       "      <td>2022-07-30</td>\n",
       "      <td>30</td>\n",
       "      <td>7</td>\n",
       "      <td>2022</td>\n",
       "      <td>2</td>\n",
       "    </tr>\n",
       "    <tr>\n",
       "      <th>3</th>\n",
       "      <td>2</td>\n",
       "      <td>Khushboo Priya</td>\n",
       "      <td>30-Jul-22</td>\n",
       "      <td>03:06:59 PM</td>\n",
       "      <td>03:07:16 PM</td>\n",
       "      <td>0 days 00:00:17</td>\n",
       "      <td>2022-07-30</td>\n",
       "      <td>30</td>\n",
       "      <td>7</td>\n",
       "      <td>2022</td>\n",
       "      <td>0</td>\n",
       "    </tr>\n",
       "    <tr>\n",
       "      <th>4</th>\n",
       "      <td>3</td>\n",
       "      <td>Nandani Gupta</td>\n",
       "      <td>30-Jul-22</td>\n",
       "      <td>03:04:24 PM</td>\n",
       "      <td>05:31:07 PM</td>\n",
       "      <td>0 days 02:26:42</td>\n",
       "      <td>2022-07-30</td>\n",
       "      <td>30</td>\n",
       "      <td>7</td>\n",
       "      <td>2022</td>\n",
       "      <td>2</td>\n",
       "    </tr>\n",
       "    <tr>\n",
       "      <th>5</th>\n",
       "      <td>4</td>\n",
       "      <td>Hrisikesh Neogi</td>\n",
       "      <td>30-Jul-22</td>\n",
       "      <td>02:34:29 PM</td>\n",
       "      <td>03:19:35 PM</td>\n",
       "      <td>0 days 00:45:06</td>\n",
       "      <td>2022-07-30</td>\n",
       "      <td>30</td>\n",
       "      <td>7</td>\n",
       "      <td>2022</td>\n",
       "      <td>0</td>\n",
       "    </tr>\n",
       "    <tr>\n",
       "      <th>6</th>\n",
       "      <td>5</td>\n",
       "      <td>Mukesh</td>\n",
       "      <td>30-Jul-22</td>\n",
       "      <td>02:03:15 PM</td>\n",
       "      <td>03:11:52 PM</td>\n",
       "      <td>0 days 01:08:36</td>\n",
       "      <td>2022-07-30</td>\n",
       "      <td>30</td>\n",
       "      <td>7</td>\n",
       "      <td>2022</td>\n",
       "      <td>1</td>\n",
       "    </tr>\n",
       "    <tr>\n",
       "      <th>...</th>\n",
       "      <td>...</td>\n",
       "      <td>...</td>\n",
       "      <td>...</td>\n",
       "      <td>...</td>\n",
       "      <td>...</td>\n",
       "      <td>...</td>\n",
       "      <td>...</td>\n",
       "      <td>...</td>\n",
       "      <td>...</td>\n",
       "      <td>...</td>\n",
       "      <td>...</td>\n",
       "    </tr>\n",
       "    <tr>\n",
       "      <th>997</th>\n",
       "      <td>996</td>\n",
       "      <td>Manjunatha A</td>\n",
       "      <td>20-Jul-22</td>\n",
       "      <td>09:03:51 AM</td>\n",
       "      <td>03:02:28 PM</td>\n",
       "      <td>0 days 05:58:37</td>\n",
       "      <td>2022-07-20</td>\n",
       "      <td>20</td>\n",
       "      <td>7</td>\n",
       "      <td>2022</td>\n",
       "      <td>5</td>\n",
       "    </tr>\n",
       "    <tr>\n",
       "      <th>998</th>\n",
       "      <td>997</td>\n",
       "      <td>Bharath</td>\n",
       "      <td>20-Jul-22</td>\n",
       "      <td>09:00:49 AM</td>\n",
       "      <td>03:01:32 PM</td>\n",
       "      <td>0 days 06:00:43</td>\n",
       "      <td>2022-07-20</td>\n",
       "      <td>20</td>\n",
       "      <td>7</td>\n",
       "      <td>2022</td>\n",
       "      <td>6</td>\n",
       "    </tr>\n",
       "    <tr>\n",
       "      <th>999</th>\n",
       "      <td>998</td>\n",
       "      <td>Khushboo Priya</td>\n",
       "      <td>20-Jul-22</td>\n",
       "      <td>08:59:20 AM</td>\n",
       "      <td>02:26:55 PM</td>\n",
       "      <td>0 days 05:27:34</td>\n",
       "      <td>2022-07-20</td>\n",
       "      <td>20</td>\n",
       "      <td>7</td>\n",
       "      <td>2022</td>\n",
       "      <td>5</td>\n",
       "    </tr>\n",
       "    <tr>\n",
       "      <th>1000</th>\n",
       "      <td>999</td>\n",
       "      <td>Nishtha Jain</td>\n",
       "      <td>20-Jul-22</td>\n",
       "      <td>08:43:55 AM</td>\n",
       "      <td>02:00:33 PM</td>\n",
       "      <td>0 days 05:16:38</td>\n",
       "      <td>2022-07-20</td>\n",
       "      <td>20</td>\n",
       "      <td>7</td>\n",
       "      <td>2022</td>\n",
       "      <td>5</td>\n",
       "    </tr>\n",
       "    <tr>\n",
       "      <th>1001</th>\n",
       "      <td>1000</td>\n",
       "      <td>Tarun</td>\n",
       "      <td>01-Jul-22</td>\n",
       "      <td>01:52:47 AM</td>\n",
       "      <td>12:01:07 PM</td>\n",
       "      <td>21 days 10:08:20</td>\n",
       "      <td>2022-07-01</td>\n",
       "      <td>1</td>\n",
       "      <td>7</td>\n",
       "      <td>2022</td>\n",
       "      <td>10</td>\n",
       "    </tr>\n",
       "  </tbody>\n",
       "</table>\n",
       "<p>1000 rows × 11 columns</p>\n",
       "</div>"
      ],
      "text/plain": [
       "1    SL No               Agent       Date   Login Time  Logout Time  \\\n",
       "2        1  Shivananda Sonwane  30-Jul-22  03:35:29 PM  05:39:39 PM   \n",
       "3        2      Khushboo Priya  30-Jul-22  03:06:59 PM  03:07:16 PM   \n",
       "4        3       Nandani Gupta  30-Jul-22  03:04:24 PM  05:31:07 PM   \n",
       "5        4     Hrisikesh Neogi  30-Jul-22  02:34:29 PM  03:19:35 PM   \n",
       "6        5             Mukesh   30-Jul-22  02:03:15 PM  03:11:52 PM   \n",
       "...    ...                 ...        ...          ...          ...   \n",
       "997    996        Manjunatha A  20-Jul-22  09:03:51 AM  03:02:28 PM   \n",
       "998    997            Bharath   20-Jul-22  09:00:49 AM  03:01:32 PM   \n",
       "999    998      Khushboo Priya  20-Jul-22  08:59:20 AM  02:26:55 PM   \n",
       "1000   999        Nishtha Jain  20-Jul-22  08:43:55 AM  02:00:33 PM   \n",
       "1001  1000              Tarun   01-Jul-22  01:52:47 AM  12:01:07 PM   \n",
       "\n",
       "1            Duration converted_date  day  month  year  hour  \n",
       "2     0 days 02:04:10     2022-07-30   30      7  2022     2  \n",
       "3     0 days 00:00:17     2022-07-30   30      7  2022     0  \n",
       "4     0 days 02:26:42     2022-07-30   30      7  2022     2  \n",
       "5     0 days 00:45:06     2022-07-30   30      7  2022     0  \n",
       "6     0 days 01:08:36     2022-07-30   30      7  2022     1  \n",
       "...               ...            ...  ...    ...   ...   ...  \n",
       "997   0 days 05:58:37     2022-07-20   20      7  2022     5  \n",
       "998   0 days 06:00:43     2022-07-20   20      7  2022     6  \n",
       "999   0 days 05:27:34     2022-07-20   20      7  2022     5  \n",
       "1000  0 days 05:16:38     2022-07-20   20      7  2022     5  \n",
       "1001 21 days 10:08:20     2022-07-01    1      7  2022    10  \n",
       "\n",
       "[1000 rows x 11 columns]"
      ]
     },
     "execution_count": 42,
     "metadata": {},
     "output_type": "execute_result"
    }
   ],
   "source": [
    "agent_login"
   ]
  },
  {
   "cell_type": "code",
   "execution_count": 43,
   "id": "6980d7aa",
   "metadata": {},
   "outputs": [
    {
     "name": "stderr",
     "output_type": "stream",
     "text": [
      "<ipython-input-43-e896ee67e77e>:1: SettingWithCopyWarning: \n",
      "A value is trying to be set on a copy of a slice from a DataFrame.\n",
      "Try using .loc[row_indexer,col_indexer] = value instead\n",
      "\n",
      "See the caveats in the documentation: https://pandas.pydata.org/pandas-docs/stable/user_guide/indexing.html#returning-a-view-versus-a-copy\n",
      "  agent_login['week_day'] = agent_login['converted_date'].dt.day_name()\n"
     ]
    }
   ],
   "source": [
    "agent_login['week_day'] = agent_login['converted_date'].dt.day_name()"
   ]
  },
  {
   "cell_type": "code",
   "execution_count": 44,
   "id": "0260abde",
   "metadata": {},
   "outputs": [
    {
     "name": "stderr",
     "output_type": "stream",
     "text": [
      "<ipython-input-44-e6845fbe8566>:1: SettingWithCopyWarning: \n",
      "A value is trying to be set on a copy of a slice from a DataFrame.\n",
      "Try using .loc[row_indexer,col_indexer] = value instead\n",
      "\n",
      "See the caveats in the documentation: https://pandas.pydata.org/pandas-docs/stable/user_guide/indexing.html#returning-a-view-versus-a-copy\n",
      "  agent_login['day_num'] = agent_login['converted_date'].dt.dayofweek\n"
     ]
    }
   ],
   "source": [
    "agent_login['day_num'] = agent_login['converted_date'].dt.dayofweek"
   ]
  },
  {
   "cell_type": "code",
   "execution_count": 45,
   "id": "979c4260",
   "metadata": {},
   "outputs": [
    {
     "data": {
      "text/plain": [
       "week_day\n",
       "Friday       282\n",
       "Monday       122\n",
       "Saturday     180\n",
       "Sunday       122\n",
       "Thursday     229\n",
       "Tuesday      126\n",
       "Wednesday    314\n",
       "Name: hour, dtype: int64"
      ]
     },
     "execution_count": 45,
     "metadata": {},
     "output_type": "execute_result"
    }
   ],
   "source": [
    "agent_login.groupby('week_day')['hour'].sum()"
   ]
  },
  {
   "cell_type": "markdown",
   "id": "169f0477",
   "metadata": {},
   "source": [
    "# 14. total percentage of active hour for a month \n"
   ]
  },
  {
   "cell_type": "code",
   "execution_count": 46,
   "id": "8c4f4778",
   "metadata": {},
   "outputs": [
    {
     "data": {
      "text/plain": [
       "184.81182795698925"
      ]
     },
     "execution_count": 46,
     "metadata": {},
     "output_type": "execute_result"
    }
   ],
   "source": [
    "(sum(agent_login['hour'])/744)*100"
   ]
  },
  {
   "cell_type": "code",
   "execution_count": null,
   "id": "dd3d0a49",
   "metadata": {},
   "outputs": [],
   "source": []
  },
  {
   "cell_type": "code",
   "execution_count": null,
   "id": "449790a8",
   "metadata": {},
   "outputs": [],
   "source": []
  },
  {
   "cell_type": "code",
   "execution_count": null,
   "id": "eacf74d2",
   "metadata": {},
   "outputs": [],
   "source": []
  }
 ],
 "metadata": {
  "kernelspec": {
   "display_name": "Python 3",
   "language": "python",
   "name": "python3"
  },
  "language_info": {
   "codemirror_mode": {
    "name": "ipython",
    "version": 3
   },
   "file_extension": ".py",
   "mimetype": "text/x-python",
   "name": "python",
   "nbconvert_exporter": "python",
   "pygments_lexer": "ipython3",
   "version": "3.8.8"
  }
 },
 "nbformat": 4,
 "nbformat_minor": 5
}
